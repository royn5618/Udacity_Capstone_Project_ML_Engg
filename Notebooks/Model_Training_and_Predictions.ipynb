{
 "cells": [
  {
   "cell_type": "markdown",
   "metadata": {},
   "source": [
    "# Getting Started"
   ]
  },
  {
   "cell_type": "markdown",
   "metadata": {},
   "source": [
    "## Imports"
   ]
  },
  {
   "cell_type": "code",
   "execution_count": 16,
   "metadata": {
    "ExecuteTime": {
     "end_time": "2021-09-27T01:17:10.096414Z",
     "start_time": "2021-09-27T01:17:09.870792Z"
    }
   },
   "outputs": [],
   "source": [
    "import re\n",
    "import time\n",
    "import numpy as np\n",
    "import pandas as pd\n",
    "import matplotlib.pyplot as plt\n",
    "import seaborn as sns\n",
    "plt.style.use('ggplot')\n",
    "plt.rcParams['font.size'] = 15\n",
    "\n",
    "from collections import Counter\n",
    "from wordcloud import WordCloud\n",
    "from nltk import sent_tokenize, word_tokenize\n",
    "from nltk.tokenize import TweetTokenizer\n",
    "from nltk.corpus import stopwords\n",
    "from nltk.stem.porter import PorterStemmer\n",
    "import string\n",
    "from PIL import Image\n",
    "import PIL.ImageOps\n",
    "from wordcloud import ImageColorGenerator\n",
    "import contractions\n",
    "STOPWORDS = set(stopwords.words('english'))\n",
    "\n",
    "from sklearn.model_selection import train_test_split\n",
    "from sklearn.feature_extraction.text import TfidfTransformer\n",
    "from sklearn.feature_extraction.text import CountVectorizer\n",
    "from sklearn.naive_bayes import MultinomialNB\n",
    "from sklearn.linear_model import LogisticRegression\n",
    "from sklearn.ensemble import RandomForestClassifier, GradientBoostingClassifier\n",
    "from sklearn.tree import DecisionTreeClassifier\n",
    "from sklearn.metrics import precision_score, recall_score, f1_score, accuracy_score\n",
    "from sklearn.model_selection import GridSearchCV\n",
    "from sklearn.preprocessing import StandardScaler, LabelEncoder, OneHotEncoder, QuantileTransformer, MinMaxScaler, MaxAbsScaler, RobustScaler\n",
    "from sklearn.compose import ColumnTransformer\n",
    "from sklearn.pipeline import Pipeline, FeatureUnion\n",
    "from sklearn.svm import SVC\n",
    "from sklearn.neighbors import KNeighborsClassifier\n",
    "\n",
    "import warnings\n",
    "warnings.filterwarnings('ignore')"
   ]
  },
  {
   "cell_type": "markdown",
   "metadata": {},
   "source": [
    "## Data Load"
   ]
  },
  {
   "cell_type": "code",
   "execution_count": 17,
   "metadata": {
    "ExecuteTime": {
     "end_time": "2021-09-27T01:17:11.276320Z",
     "start_time": "2021-09-27T01:17:11.056954Z"
    }
   },
   "outputs": [],
   "source": [
    "df_train = pd.read_csv('../data/df_train_prepped.csv')\n",
    "df_test = pd.read_csv('../data/df_test_prepped.csv', )"
   ]
  },
  {
   "cell_type": "markdown",
   "metadata": {},
   "source": [
    "## Column Names - STATIC"
   ]
  },
  {
   "cell_type": "markdown",
   "metadata": {},
   "source": [
    "I prefer standardizing column names:"
   ]
  },
  {
   "cell_type": "code",
   "execution_count": 18,
   "metadata": {
    "ExecuteTime": {
     "end_time": "2021-09-27T01:17:13.459642Z",
     "start_time": "2021-09-27T01:17:13.434659Z"
    }
   },
   "outputs": [],
   "source": [
    "KEYWORD = 'keyword'\n",
    "ID = 'id'\n",
    "LOCATION = 'location'\n",
    "TEXT = 'text'\n",
    "TARGET = 'target'\n",
    "TEXT_TOKENIZED = 'Text Tokenized'\n",
    "SENTIMENT = 'Sentiment Score'\n",
    "SENTIMENT_ROUND = 'Sentiment Score (rounded off)'\n",
    "_LOC_POINT = '_loc_point'\n",
    "WORDS_PER_TWEET = 'Words Per Tweet'\n",
    "CHAR_PER_TWEET = 'Characters Per Tweet'\n",
    "LOCATIONS = 'Locations'\n",
    "_LOC_SPACY_OBJ_ = 'Location Spacy Object'\n",
    "ALL_TEXT = 'all_text'\n",
    "ALL_TEXT_JOINED = 'all_text_joined'\n",
    "NUM_IN_TWEETS = 'Number in Tweet'\n",
    "PUNCTUATION_COUNT = 'Punctuation Count Per Tweet'\n",
    "IDENTIFIABLE_LOCATION = 'Identifiable Location'\n",
    "IN_BOW = 'Present In BOW'"
   ]
  },
  {
   "cell_type": "code",
   "execution_count": 19,
   "metadata": {
    "ExecuteTime": {
     "end_time": "2021-09-27T01:17:15.321219Z",
     "start_time": "2021-09-27T01:17:15.278167Z"
    }
   },
   "outputs": [
    {
     "data": {
      "text/plain": [
       "id                                  0\n",
       "keyword                            61\n",
       "location                         2533\n",
       "text                                0\n",
       "target                              0\n",
       "Punctuation Count Per Tweet         0\n",
       "Number in Tweet                     0\n",
       "Sentiment Score                     0\n",
       "Sentiment Score (rounded off)       0\n",
       "Text Tokenized                      0\n",
       "Words Per Tweet                     0\n",
       "Characters Per Tweet                0\n",
       "Present In BOW                      0\n",
       "Locations                           0\n",
       "Identifiable Location               0\n",
       "all_text                            0\n",
       "all_text_joined                     0\n",
       "dtype: int64"
      ]
     },
     "execution_count": 19,
     "metadata": {},
     "output_type": "execute_result"
    }
   ],
   "source": [
    "df_train.isna().sum()"
   ]
  },
  {
   "cell_type": "code",
   "execution_count": 20,
   "metadata": {
    "ExecuteTime": {
     "end_time": "2021-09-27T01:17:16.473077Z",
     "start_time": "2021-09-27T01:17:16.442587Z"
    }
   },
   "outputs": [
    {
     "data": {
      "text/plain": [
       "id                                  0\n",
       "keyword                            26\n",
       "location                         1105\n",
       "text                                1\n",
       "Punctuation Count Per Tweet         0\n",
       "Number in Tweet                     0\n",
       "Sentiment Score                     0\n",
       "Sentiment Score (rounded off)       0\n",
       "Locations                           0\n",
       "Identifiable Location               0\n",
       "Text Tokenized                      0\n",
       "Words Per Tweet                     0\n",
       "Characters Per Tweet                0\n",
       "Present In BOW                      0\n",
       "all_text                            0\n",
       "all_text_joined                     1\n",
       "dtype: int64"
      ]
     },
     "execution_count": 20,
     "metadata": {},
     "output_type": "execute_result"
    }
   ],
   "source": [
    "df_test.isna().sum()"
   ]
  },
  {
   "cell_type": "code",
   "execution_count": 21,
   "metadata": {
    "ExecuteTime": {
     "end_time": "2021-09-27T01:17:17.495947Z",
     "start_time": "2021-09-27T01:17:17.452216Z"
    }
   },
   "outputs": [
    {
     "data": {
      "text/plain": [
       "id                               0\n",
       "keyword                          0\n",
       "location                         0\n",
       "text                             0\n",
       "Punctuation Count Per Tweet      0\n",
       "Number in Tweet                  0\n",
       "Sentiment Score                  0\n",
       "Sentiment Score (rounded off)    0\n",
       "Locations                        0\n",
       "Identifiable Location            0\n",
       "Text Tokenized                   0\n",
       "Words Per Tweet                  0\n",
       "Characters Per Tweet             0\n",
       "Present In BOW                   0\n",
       "all_text                         0\n",
       "all_text_joined                  0\n",
       "dtype: int64"
      ]
     },
     "execution_count": 21,
     "metadata": {},
     "output_type": "execute_result"
    }
   ],
   "source": [
    "df_test.fillna(' ', inplace=True)\n",
    "df_test.isna().sum()"
   ]
  },
  {
   "cell_type": "markdown",
   "metadata": {},
   "source": [
    "# Building a Data Modeling Pipeline"
   ]
  },
  {
   "cell_type": "markdown",
   "metadata": {},
   "source": [
    "## Helper Functions"
   ]
  },
  {
   "cell_type": "code",
   "execution_count": 22,
   "metadata": {
    "ExecuteTime": {
     "end_time": "2021-09-27T01:17:19.440810Z",
     "start_time": "2021-09-27T01:17:19.411190Z"
    }
   },
   "outputs": [],
   "source": [
    "def print_classification_metrics(y_train, train_pred, y_test, test_pred):\n",
    "    print('Training Accuracy: ', accuracy_score(y_train, train_pred))\n",
    "    print('Training f1-score: ', f1_score(y_train, train_pred))\n",
    "    print('Accuracy: ', accuracy_score(y_test, test_pred))\n",
    "    print('Precision: ', precision_score(y_test, test_pred))\n",
    "    print('Recall: ', recall_score(y_test, test_pred))\n",
    "    print('f1-score: ', f1_score(y_test, test_pred))\n",
    "    \n",
    "def predict_challenge_test_data(model, test_data, filename):\n",
    "    submission_predictions = model.predict(test_data)\n",
    "    df_submission = pd.read_csv('../data/sample_submission.csv')\n",
    "    df_submission[TARGET] = submission_predictions\n",
    "    df_submission.to_csv(filename, index=False)"
   ]
  },
  {
   "cell_type": "code",
   "execution_count": 23,
   "metadata": {
    "ExecuteTime": {
     "end_time": "2021-09-27T01:17:19.715491Z",
     "start_time": "2021-09-27T01:17:19.677345Z"
    }
   },
   "outputs": [],
   "source": [
    "DF_PERF_METRICS = pd.DataFrame(columns=[\n",
    "    'Model', 'Accuracy_Training_Set', 'Accuracy_Test_Set', 'Precision',\n",
    "    'Recall', 'f1_score', 'Training Time (secs)'\n",
    "])\n",
    "LIST_MODELS_TRAINED = []\n",
    "\n",
    "\n",
    "def get_perf_metrics(model, i):\n",
    "    # model name\n",
    "    model_name = type(model).__name__\n",
    "    # time keeping\n",
    "    start_time = time.time()\n",
    "    print(\"Training {} model...\".format(model_name))\n",
    "    # Fitting of model\n",
    "    model.fit(X_train_sparse, y_train)\n",
    "    print(\"Completed {} model training.\".format(model_name))\n",
    "    elapsed_time = time.time() - start_time\n",
    "    # Time Elapsed\n",
    "    print(\"Time elapsed: {:.2f} s.\".format(elapsed_time))\n",
    "    # Predictions\n",
    "    y_pred = model.predict(X_test_sparse)\n",
    "    # Add to ith row of dataframe - metrics\n",
    "    DF_PERF_METRICS.loc[i] = [\n",
    "        model_name,\n",
    "        model.score(X_train_sparse, y_train),\n",
    "        model.score(X_test_sparse, y_test),\n",
    "        precision_score(y_test, y_pred),\n",
    "        recall_score(y_test, y_pred),\n",
    "        f1_score(y_test, y_pred), \"{:.2f}\".format(elapsed_time)\n",
    "    ]\n",
    "    # keep a track of trained models\n",
    "    LIST_MODELS_TRAINED.append(model)\n",
    "    print(\"Completed {} model's performance assessment.\".format(model_name))"
   ]
  },
  {
   "cell_type": "markdown",
   "metadata": {},
   "source": [
    "## Baseline "
   ]
  },
  {
   "cell_type": "markdown",
   "metadata": {},
   "source": [
    "I have chosen to use only the joined text data, transformed using CountVectorizer and normalised using TfIdf Transformer. Logistic Regression is used for model training."
   ]
  },
  {
   "cell_type": "code",
   "execution_count": 9,
   "metadata": {
    "ExecuteTime": {
     "end_time": "2021-09-06T11:35:21.530818Z",
     "start_time": "2021-09-06T11:35:20.802099Z"
    }
   },
   "outputs": [],
   "source": [
    "cols_to_train = [ALL_TEXT_JOINED]\n",
    "\n",
    "X_train, X_test, y_train, y_test = train_test_split(df_train[cols_to_train],\n",
    "                                                    df_train[TARGET].values,\n",
    "                                                    test_size=0.2,\n",
    "                                                    random_state=42)\n",
    "\n",
    "pipe = Pipeline([('count_vec', CountVectorizer(ngram_range=(1, 2))),\n",
    "                 ('tf_idf', TfidfTransformer(smooth_idf=False))])\n",
    "ct = ColumnTransformer([('pipe', pipe, ALL_TEXT_JOINED)],\n",
    "                       remainder='passthrough')\n",
    "\n",
    "ct.fit(X_train)\n",
    "X_train_sparse = ct.transform(X_train)\n",
    "X_test_sparse = ct.transform(X_test)\n",
    "df_test_sparse = ct.transform(df_test[cols_to_train])"
   ]
  },
  {
   "cell_type": "code",
   "execution_count": 10,
   "metadata": {
    "ExecuteTime": {
     "end_time": "2021-09-06T11:35:22.201653Z",
     "start_time": "2021-09-06T11:35:21.530818Z"
    }
   },
   "outputs": [],
   "source": [
    "log_reg = LogisticRegression(random_state=42)\n",
    "log_reg.fit(X_train_sparse, y_train)\n",
    "baseline_prediction = log_reg.predict(X_test_sparse)\n",
    "training_prediction = log_reg.predict(X_train_sparse)"
   ]
  },
  {
   "cell_type": "code",
   "execution_count": 11,
   "metadata": {
    "ExecuteTime": {
     "end_time": "2021-09-06T11:35:22.256574Z",
     "start_time": "2021-09-06T11:35:22.201653Z"
    }
   },
   "outputs": [
    {
     "name": "stdout",
     "output_type": "stream",
     "text": [
      "Training Accuracy:  0.9185550082101807\n",
      "Training f1-score:  0.8972659486329743\n",
      "Accuracy:  0.8003939592908733\n",
      "Precision:  0.8176795580110497\n",
      "Recall:  0.6841294298921418\n",
      "f1-score:  0.7449664429530202\n"
     ]
    }
   ],
   "source": [
    "print_classification_metrics(y_train, training_prediction, y_test, baseline_prediction)"
   ]
  },
  {
   "cell_type": "code",
   "execution_count": 12,
   "metadata": {
    "ExecuteTime": {
     "end_time": "2021-09-06T11:35:23.563672Z",
     "start_time": "2021-09-06T11:35:22.261522Z"
    }
   },
   "outputs": [],
   "source": [
    "model = log_reg.fit(ct.transform(df_train[cols_to_train]), df_train[TARGET].values)\n",
    "predict_challenge_test_data(model, df_test_sparse, '../Predictions/baseline_predictions_1.csv')"
   ]
  },
  {
   "cell_type": "markdown",
   "metadata": {},
   "source": [
    "**Observations**\n",
    "\n",
    "The training accuracy and f1-score is quite high as compared to the test (hold-out) accuracy."
   ]
  },
  {
   "cell_type": "markdown",
   "metadata": {},
   "source": [
    "## Testing Performance with CountVectorizer"
   ]
  },
  {
   "cell_type": "markdown",
   "metadata": {},
   "source": [
    "Now, testing the performance without normalization using TfidfTransformer."
   ]
  },
  {
   "cell_type": "code",
   "execution_count": 13,
   "metadata": {
    "ExecuteTime": {
     "end_time": "2021-09-06T11:35:24.932146Z",
     "start_time": "2021-09-06T11:35:23.563672Z"
    }
   },
   "outputs": [],
   "source": [
    "cols_to_train = [ALL_TEXT_JOINED]\n",
    "\n",
    "X_train, X_test, y_train, y_test = train_test_split(df_train[cols_to_train],\n",
    "                                                    df_train[TARGET].values,\n",
    "                                                    test_size=0.2,\n",
    "                                                    random_state=42)\n",
    "\n",
    "ct = ColumnTransformer([('count_vec', CountVectorizer(ngram_range=(1, 2)), ALL_TEXT_JOINED)],\n",
    "                       remainder='passthrough')\n",
    "\n",
    "ct.fit(X_train)\n",
    "X_train_sparse = ct.transform(X_train)\n",
    "X_test_sparse = ct.transform(X_test)\n",
    "df_test_sparse = ct.transform(df_test[cols_to_train])"
   ]
  },
  {
   "cell_type": "code",
   "execution_count": 14,
   "metadata": {
    "ExecuteTime": {
     "end_time": "2021-09-06T11:35:26.175241Z",
     "start_time": "2021-09-06T11:35:24.932146Z"
    }
   },
   "outputs": [],
   "source": [
    "log_reg = LogisticRegression()\n",
    "log_reg.fit(X_train_sparse, y_train)\n",
    "test_prediction = log_reg.predict(X_test_sparse)\n",
    "training_prediction = log_reg.predict(X_train_sparse)"
   ]
  },
  {
   "cell_type": "code",
   "execution_count": 15,
   "metadata": {
    "ExecuteTime": {
     "end_time": "2021-09-06T11:35:26.221638Z",
     "start_time": "2021-09-06T11:35:26.180215Z"
    }
   },
   "outputs": [
    {
     "name": "stdout",
     "output_type": "stream",
     "text": [
      "Training Accuracy:  0.9885057471264368\n",
      "Training f1-score:  0.9865591397849462\n",
      "Accuracy:  0.8017071569271176\n",
      "Precision:  0.8070796460176991\n",
      "Recall:  0.7026194144838213\n",
      "f1-score:  0.7512355848434925\n"
     ]
    }
   ],
   "source": [
    "print_classification_metrics(y_train, training_prediction, y_test, test_prediction)"
   ]
  },
  {
   "cell_type": "markdown",
   "metadata": {},
   "source": [
    "**Observations**\n",
    "\n",
    "There is improvement in the performance. Hence, I will continue to use only CountVectorizer."
   ]
  },
  {
   "cell_type": "code",
   "execution_count": 16,
   "metadata": {
    "ExecuteTime": {
     "end_time": "2021-09-06T11:35:28.055287Z",
     "start_time": "2021-09-06T11:35:26.221638Z"
    }
   },
   "outputs": [],
   "source": [
    "model = log_reg.fit(ct.transform(df_train[cols_to_train]), df_train[TARGET].values)\n",
    "predict_challenge_test_data(model, df_test_sparse, '../Predictions/test_predictions_1.csv')"
   ]
  },
  {
   "cell_type": "markdown",
   "metadata": {},
   "source": [
    "## Adding Sentiment"
   ]
  },
  {
   "cell_type": "code",
   "execution_count": 17,
   "metadata": {
    "ExecuteTime": {
     "end_time": "2021-09-06T11:35:29.449414Z",
     "start_time": "2021-09-06T11:35:28.055287Z"
    }
   },
   "outputs": [],
   "source": [
    "# TEST 1 - Using Rounded off Sentiment Score\n",
    "\n",
    "cols_to_train = [ALL_TEXT_JOINED, SENTIMENT_ROUND]\n",
    "\n",
    "X_train, X_test, y_train, y_test = train_test_split(df_train[cols_to_train],\n",
    "                                                    df_train[TARGET].values,\n",
    "                                                    test_size=0.2,\n",
    "                                                    random_state=42)\n",
    "\n",
    "ct = ColumnTransformer([('count_vec', CountVectorizer(ngram_range=(1, 2)), ALL_TEXT_JOINED)],\n",
    "                       remainder='passthrough')\n",
    "\n",
    "ct.fit(X_train)\n",
    "X_train_sparse = ct.transform(X_train)\n",
    "X_test_sparse = ct.transform(X_test)\n",
    "df_test_sparse = ct.transform(df_test[cols_to_train])"
   ]
  },
  {
   "cell_type": "code",
   "execution_count": 18,
   "metadata": {
    "ExecuteTime": {
     "end_time": "2021-09-06T11:35:30.581446Z",
     "start_time": "2021-09-06T11:35:29.453369Z"
    }
   },
   "outputs": [],
   "source": [
    "log_reg = LogisticRegression()\n",
    "log_reg.fit(X_train_sparse, y_train)\n",
    "test_prediction = log_reg.predict(X_test_sparse)\n",
    "training_prediction = log_reg.predict(X_train_sparse)"
   ]
  },
  {
   "cell_type": "code",
   "execution_count": 19,
   "metadata": {
    "ExecuteTime": {
     "end_time": "2021-09-06T11:35:30.632938Z",
     "start_time": "2021-09-06T11:35:30.585677Z"
    }
   },
   "outputs": [
    {
     "name": "stdout",
     "output_type": "stream",
     "text": [
      "Training Accuracy:  0.9886699507389163\n",
      "Training f1-score:  0.9867536955269726\n",
      "Accuracy:  0.8003939592908733\n",
      "Precision:  0.8074866310160428\n",
      "Recall:  0.6979969183359014\n",
      "f1-score:  0.7487603305785123\n"
     ]
    }
   ],
   "source": [
    "print_classification_metrics(y_train, training_prediction, y_test, test_prediction)"
   ]
  },
  {
   "cell_type": "code",
   "execution_count": 20,
   "metadata": {
    "ExecuteTime": {
     "end_time": "2021-09-06T11:35:31.983455Z",
     "start_time": "2021-09-06T11:35:30.637677Z"
    }
   },
   "outputs": [],
   "source": [
    "# TEST 2 - Using Raw Sentiment Score\n",
    "\n",
    "cols_to_train = [ALL_TEXT_JOINED, SENTIMENT]\n",
    "\n",
    "X_train, X_test, y_train, y_test = train_test_split(df_train[cols_to_train],\n",
    "                                                    df_train[TARGET].values,\n",
    "                                                    test_size=0.2,\n",
    "                                                    random_state=42)\n",
    "\n",
    "ct = ColumnTransformer([('count_vec', CountVectorizer(ngram_range=(1, 2)), ALL_TEXT_JOINED)],\n",
    "                       remainder='passthrough')\n",
    "\n",
    "ct.fit(X_train)\n",
    "X_train_sparse = ct.transform(X_train)\n",
    "X_test_sparse = ct.transform(X_test)\n",
    "df_test_sparse = ct.transform(df_test[cols_to_train])"
   ]
  },
  {
   "cell_type": "code",
   "execution_count": 21,
   "metadata": {
    "ExecuteTime": {
     "end_time": "2021-09-06T11:35:33.156942Z",
     "start_time": "2021-09-06T11:35:31.988968Z"
    }
   },
   "outputs": [],
   "source": [
    "log_reg = LogisticRegression()\n",
    "log_reg.fit(X_train_sparse, y_train)\n",
    "test_prediction = log_reg.predict(X_test_sparse)\n",
    "training_prediction = log_reg.predict(X_train_sparse)"
   ]
  },
  {
   "cell_type": "code",
   "execution_count": 22,
   "metadata": {
    "ExecuteTime": {
     "end_time": "2021-09-06T11:35:33.210009Z",
     "start_time": "2021-09-06T11:35:33.156942Z"
    }
   },
   "outputs": [
    {
     "name": "stdout",
     "output_type": "stream",
     "text": [
      "Training Accuracy:  0.9886699507389163\n",
      "Training f1-score:  0.9867536955269726\n",
      "Accuracy:  0.7971109652002626\n",
      "Precision:  0.7992957746478874\n",
      "Recall:  0.699537750385208\n",
      "f1-score:  0.7460969597370584\n"
     ]
    }
   ],
   "source": [
    "print_classification_metrics(y_train, training_prediction, y_test, test_prediction)"
   ]
  },
  {
   "cell_type": "markdown",
   "metadata": {},
   "source": [
    "## Adding Other Features"
   ]
  },
  {
   "cell_type": "markdown",
   "metadata": {},
   "source": [
    "Removed **characters per tweet** since it is strongly correlated with **words per tweet**. So, it doesn't make sense that I keep both."
   ]
  },
  {
   "cell_type": "code",
   "execution_count": 23,
   "metadata": {
    "ExecuteTime": {
     "end_time": "2021-09-06T11:35:33.255025Z",
     "start_time": "2021-09-06T11:35:33.220718Z"
    }
   },
   "outputs": [],
   "source": [
    "# TEST 1\n",
    "\n",
    "cols_to_train = [\n",
    "    ALL_TEXT_JOINED, SENTIMENT_ROUND, WORDS_PER_TWEET,\n",
    "    NUM_IN_TWEETS, PUNCTUATION_COUNT, IDENTIFIABLE_LOCATION, IN_BOW\n",
    "] # avg ~ 74\n",
    "\n",
    "# # TEST 2\n",
    "\n",
    "# cols_to_train = [\n",
    "#     ALL_TEXT_JOINED, SENTIMENT_ROUND, WORDS_PER_TWEET,\n",
    "#     NUM_IN_TWEETS, PUNCTUATION_COUNT, IDENTIFIABLE_LOCATION\n",
    "# ] # avg ~ 76\n",
    "\n",
    "X_train, X_test, y_train, y_test = train_test_split(df_train[cols_to_train],\n",
    "                                                    df_train[TARGET].values,\n",
    "                                                    test_size=0.2,\n",
    "                                                    random_state=42)\n",
    "\n",
    "cols_to_scale = [WORDS_PER_TWEET, PUNCTUATION_COUNT]\n",
    "\n",
    "ct = ColumnTransformer(\n",
    "    [(\"scaler\", StandardScaler(), cols_to_scale),\n",
    "     ('count_vec', CountVectorizer(ngram_range=(1, 2)) , ALL_TEXT_JOINED)],\n",
    "    remainder='passthrough')"
   ]
  },
  {
   "cell_type": "code",
   "execution_count": 24,
   "metadata": {
    "ExecuteTime": {
     "end_time": "2021-09-06T11:35:34.633661Z",
     "start_time": "2021-09-06T11:35:33.262702Z"
    }
   },
   "outputs": [],
   "source": [
    "ct.fit(X_train)\n",
    "X_train_sparse = ct.transform(X_train)\n",
    "X_test_sparse = ct.transform(X_test)\n",
    "df_test_sparse = ct.transform(df_test[cols_to_train])"
   ]
  },
  {
   "cell_type": "code",
   "execution_count": 25,
   "metadata": {
    "ExecuteTime": {
     "end_time": "2021-09-06T11:35:36.355598Z",
     "start_time": "2021-09-06T11:35:34.633661Z"
    }
   },
   "outputs": [],
   "source": [
    "log_reg = LogisticRegression()\n",
    "log_reg.fit(X_train_sparse, y_train)\n",
    "test_prediction = log_reg.predict(X_test_sparse)\n",
    "training_prediction = log_reg.predict(X_train_sparse)"
   ]
  },
  {
   "cell_type": "code",
   "execution_count": 26,
   "metadata": {
    "ExecuteTime": {
     "end_time": "2021-09-06T11:35:36.408074Z",
     "start_time": "2021-09-06T11:35:36.359457Z"
    }
   },
   "outputs": [
    {
     "name": "stdout",
     "output_type": "stream",
     "text": [
      "Training Accuracy:  0.9873563218390805\n",
      "Training f1-score:  0.9851894595114447\n",
      "Accuracy:  0.799080761654629\n",
      "Precision:  0.7941680960548885\n",
      "Recall:  0.7134052388289677\n",
      "f1-score:  0.7516233766233767\n"
     ]
    }
   ],
   "source": [
    "print_classification_metrics(y_train, training_prediction, y_test, test_prediction)"
   ]
  },
  {
   "cell_type": "markdown",
   "metadata": {
    "ExecuteTime": {
     "end_time": "2021-08-25T13:52:18.539022Z",
     "start_time": "2021-08-25T13:52:18.517051Z"
    }
   },
   "source": [
    "**Observations**\n",
    "\n",
    "The model performance decreases on adding all the features."
   ]
  },
  {
   "cell_type": "markdown",
   "metadata": {},
   "source": [
    "## Feature Importance using Random Forest "
   ]
  },
  {
   "cell_type": "code",
   "execution_count": 27,
   "metadata": {
    "ExecuteTime": {
     "end_time": "2021-09-06T11:35:36.440251Z",
     "start_time": "2021-09-06T11:35:36.409249Z"
    }
   },
   "outputs": [],
   "source": [
    "cols_to_train = [\n",
    "    SENTIMENT_ROUND, WORDS_PER_TWEET,\n",
    "    NUM_IN_TWEETS, PUNCTUATION_COUNT, IDENTIFIABLE_LOCATION, IN_BOW\n",
    "]\n",
    "\n",
    "X_train, X_test, y_train, y_test = train_test_split(df_train[cols_to_train],\n",
    "                                                    df_train[TARGET].values,\n",
    "                                                    test_size=0.2,\n",
    "                                                    random_state=42)\n",
    "\n",
    "cols_to_scale = [WORDS_PER_TWEET, PUNCTUATION_COUNT]\n",
    "\n",
    "ct = ColumnTransformer(\n",
    "    [(\"scaler\", StandardScaler(), cols_to_scale)],\n",
    "    remainder='passthrough')"
   ]
  },
  {
   "cell_type": "code",
   "execution_count": 28,
   "metadata": {
    "ExecuteTime": {
     "end_time": "2021-09-06T11:35:36.505377Z",
     "start_time": "2021-09-06T11:35:36.440251Z"
    }
   },
   "outputs": [],
   "source": [
    "ct.fit(X_train)\n",
    "X_train_sparse = ct.transform(X_train)\n",
    "X_test_sparse = ct.transform(X_test)\n",
    "df_test_sparse = ct.transform(df_test[cols_to_train])"
   ]
  },
  {
   "cell_type": "code",
   "execution_count": 29,
   "metadata": {
    "ExecuteTime": {
     "end_time": "2021-09-06T11:35:38.067229Z",
     "start_time": "2021-09-06T11:35:36.505876Z"
    }
   },
   "outputs": [],
   "source": [
    "rfc = RandomForestClassifier()\n",
    "rfc.fit(X_train_sparse, y_train)\n",
    "test_prediction = rfc.predict(X_test_sparse)\n",
    "training_prediction = rfc.predict(X_train_sparse)"
   ]
  },
  {
   "cell_type": "code",
   "execution_count": 30,
   "metadata": {
    "ExecuteTime": {
     "end_time": "2021-09-06T11:35:38.116575Z",
     "start_time": "2021-09-06T11:35:38.067229Z"
    }
   },
   "outputs": [
    {
     "name": "stdout",
     "output_type": "stream",
     "text": [
      "Training Accuracy:  0.7354679802955665\n",
      "Training f1-score:  0.6530260607365928\n",
      "Accuracy:  0.6447800393959291\n",
      "Precision:  0.5989010989010989\n",
      "Recall:  0.5038520801232665\n",
      "f1-score:  0.5472803347280335\n"
     ]
    }
   ],
   "source": [
    "print_classification_metrics(y_train, training_prediction, y_test, test_prediction)"
   ]
  },
  {
   "cell_type": "code",
   "execution_count": 31,
   "metadata": {
    "ExecuteTime": {
     "end_time": "2021-09-06T11:35:38.598926Z",
     "start_time": "2021-09-06T11:35:38.116575Z"
    }
   },
   "outputs": [
    {
     "data": {
      "text/plain": [
       "<AxesSubplot:>"
      ]
     },
     "execution_count": 31,
     "metadata": {},
     "output_type": "execute_result"
    },
    {
     "data": {
      "image/png": "[encoded data removed]",
      "text/plain": [
       "<Figure size 432x288 with 1 Axes>"
      ]
     },
     "metadata": {},
     "output_type": "display_data"
    }
   ],
   "source": [
    "sns.barplot(x=rfc.feature_importances_, y=cols_to_train)"
   ]
  },
  {
   "cell_type": "markdown",
   "metadata": {},
   "source": [
    "**Observations**\n",
    "\n",
    "From this experiment, Sentiment, Words Per Tweet and IN BOW have stronger effect on the predictions. Therefore, I will be using them in the next set of tests."
   ]
  },
  {
   "cell_type": "markdown",
   "metadata": {},
   "source": [
    "## Testing Scaling Strategies"
   ]
  },
  {
   "cell_type": "code",
   "execution_count": 32,
   "metadata": {
    "ExecuteTime": {
     "end_time": "2021-09-06T11:35:50.813674Z",
     "start_time": "2021-09-06T11:35:38.598926Z"
    }
   },
   "outputs": [
    {
     "name": "stdout",
     "output_type": "stream",
     "text": [
      "StandardScaler()\n",
      "Training Accuracy:  0.9875205254515599\n",
      "Training f1-score:  0.9853902345251827\n",
      "Accuracy:  0.8003939592908733\n",
      "Precision:  0.7928692699490663\n",
      "Recall:  0.7195685670261941\n",
      "f1-score:  0.7544426494345718\n",
      "-------------------------\n",
      "QuantileTransformer()\n",
      "Training Accuracy:  0.9875205254515599\n",
      "Training f1-score:  0.9853846153846155\n",
      "Accuracy:  0.799080761654629\n",
      "Precision:  0.7931623931623931\n",
      "Recall:  0.7149460708782742\n",
      "f1-score:  0.7520259319286872\n",
      "-------------------------\n",
      "MinMaxScaler()\n",
      "Training Accuracy:  0.9875205254515599\n",
      "Training f1-score:  0.9853902345251827\n",
      "Accuracy:  0.7984241628365069\n",
      "Precision:  0.7928082191780822\n",
      "Recall:  0.7134052388289677\n",
      "f1-score:  0.7510137875101379\n",
      "-------------------------\n",
      "MaxAbsScaler()\n",
      "Training Accuracy:  0.9875205254515599\n",
      "Training f1-score:  0.9853902345251827\n",
      "Accuracy:  0.799080761654629\n",
      "Precision:  0.7931623931623931\n",
      "Recall:  0.7149460708782742\n",
      "f1-score:  0.7520259319286872\n",
      "-------------------------\n",
      "RobustScaler()\n",
      "Training Accuracy:  0.9875205254515599\n",
      "Training f1-score:  0.9853902345251827\n",
      "Accuracy:  0.7997373604727511\n",
      "Precision:  0.7925170068027211\n",
      "Recall:  0.7180277349768875\n",
      "f1-score:  0.7534357316087307\n",
      "-------------------------\n"
     ]
    }
   ],
   "source": [
    "list_scalers = [\n",
    "    StandardScaler(),\n",
    "    QuantileTransformer(),\n",
    "    MinMaxScaler(),\n",
    "    MaxAbsScaler(),\n",
    "    RobustScaler()\n",
    "]\n",
    "\n",
    "cols_to_train = [ALL_TEXT_JOINED, SENTIMENT_ROUND, WORDS_PER_TWEET, IN_BOW]\n",
    "cols_to_scale = [WORDS_PER_TWEET]\n",
    "\n",
    "X_train, X_test, y_train, y_test = train_test_split(df_train[cols_to_train],\n",
    "                                                    df_train[TARGET].values,\n",
    "                                                    test_size=0.2,\n",
    "                                                    random_state=42)\n",
    "\n",
    "for scaler in list_scalers:\n",
    "    print(scaler)\n",
    "    ct = ColumnTransformer(\n",
    "        [(\"scaler\", scaler, cols_to_scale),\n",
    "         (\"count_vec\", CountVectorizer(ngram_range=(1, 2)), ALL_TEXT_JOINED)],\n",
    "        remainder='passthrough')\n",
    "\n",
    "    ct.fit(X_train)\n",
    "    X_train_sparse = ct.transform(X_train)\n",
    "    X_test_sparse = ct.transform(X_test)\n",
    "    log_reg = LogisticRegression()\n",
    "    log_reg.fit(X_train_sparse, y_train)\n",
    "    test_prediction = log_reg.predict(X_test_sparse)\n",
    "    training_prediction = log_reg.predict(X_train_sparse)\n",
    "    print_classification_metrics(y_train, training_prediction, y_test,\n",
    "                                 test_prediction)\n",
    "    print('-------------------------')"
   ]
  },
  {
   "cell_type": "markdown",
   "metadata": {
    "ExecuteTime": {
     "end_time": "2021-08-25T13:26:46.643520Z",
     "start_time": "2021-08-25T13:26:46.607601Z"
    }
   },
   "source": [
    "**Observations**\n",
    "\n",
    "The standard scaler is performing the best considering the f1-score of the hold-out test data."
   ]
  },
  {
   "cell_type": "markdown",
   "metadata": {},
   "source": [
    "## Testing Multiple Machine Learning Models"
   ]
  },
  {
   "cell_type": "code",
   "execution_count": 33,
   "metadata": {
    "ExecuteTime": {
     "end_time": "2021-09-06T11:35:52.160751Z",
     "start_time": "2021-09-06T11:35:50.813674Z"
    }
   },
   "outputs": [],
   "source": [
    "cols_to_train = [ALL_TEXT_JOINED, SENTIMENT_ROUND, WORDS_PER_TWEET, IN_BOW]\n",
    "cols_to_scale = [WORDS_PER_TWEET]\n",
    "\n",
    "X_train, X_test, y_train, y_test = train_test_split(df_train[cols_to_train],\n",
    "                                                    df_train[TARGET].values,\n",
    "                                                    test_size=0.2,\n",
    "                                                    random_state=42)\n",
    "ct = ColumnTransformer(\n",
    "    [(\"scaler\", StandardScaler(), cols_to_scale),\n",
    "     (\"count_vec\", CountVectorizer(ngram_range=(1, 2)), ALL_TEXT_JOINED)],\n",
    "    remainder='passthrough')\n",
    "\n",
    "ct.fit(X_train)\n",
    "X_train_sparse = ct.transform(X_train)\n",
    "X_test_sparse = ct.transform(X_test)\n",
    "df_test_sparse = ct.transform(df_test[cols_to_train])"
   ]
  },
  {
   "cell_type": "code",
   "execution_count": 34,
   "metadata": {
    "ExecuteTime": {
     "end_time": "2021-09-06T11:35:52.176775Z",
     "start_time": "2021-09-06T11:35:52.160751Z"
    }
   },
   "outputs": [],
   "source": [
    "models_list = [LogisticRegression(),\n",
    "               SVC(),\n",
    "               KNeighborsClassifier(),\n",
    "               DecisionTreeClassifier(),\n",
    "               RandomForestClassifier(),\n",
    "               GradientBoostingClassifier()]"
   ]
  },
  {
   "cell_type": "code",
   "execution_count": 35,
   "metadata": {
    "ExecuteTime": {
     "end_time": "2021-09-06T11:37:38.725481Z",
     "start_time": "2021-09-06T11:35:52.179318Z"
    }
   },
   "outputs": [
    {
     "name": "stdout",
     "output_type": "stream",
     "text": [
      "Training LogisticRegression model...\n",
      "Completed LogisticRegression model training.\n",
      "Time elapsed: 1.50 s.\n",
      "Completed LogisticRegression model's performance assessment.\n",
      "Training SVC model...\n",
      "Completed SVC model training.\n",
      "Time elapsed: 16.87 s.\n",
      "Completed SVC model's performance assessment.\n",
      "Training KNeighborsClassifier model...\n",
      "Completed KNeighborsClassifier model training.\n",
      "Time elapsed: 0.00 s.\n",
      "Completed KNeighborsClassifier model's performance assessment.\n",
      "Training DecisionTreeClassifier model...\n",
      "Completed DecisionTreeClassifier model training.\n",
      "Time elapsed: 6.53 s.\n",
      "Completed DecisionTreeClassifier model's performance assessment.\n",
      "Training RandomForestClassifier model...\n",
      "Completed RandomForestClassifier model training.\n",
      "Time elapsed: 42.35 s.\n",
      "Completed RandomForestClassifier model's performance assessment.\n",
      "Training GradientBoostingClassifier model...\n",
      "Completed GradientBoostingClassifier model training.\n",
      "Time elapsed: 9.19 s.\n",
      "Completed GradientBoostingClassifier model's performance assessment.\n"
     ]
    }
   ],
   "source": [
    "for n, model in enumerate(models_list):\n",
    "    get_perf_metrics(model, n)"
   ]
  },
  {
   "cell_type": "code",
   "execution_count": 36,
   "metadata": {
    "ExecuteTime": {
     "end_time": "2021-09-06T11:37:38.772689Z",
     "start_time": "2021-09-06T11:37:38.725481Z"
    }
   },
   "outputs": [
    {
     "data": {
      "text/html": [
       "<div>\n",
       "<style scoped>\n",
       "    .dataframe tbody tr th:only-of-type {\n",
       "        vertical-align: middle;\n",
       "    }\n",
       "\n",
       "    .dataframe tbody tr th {\n",
       "        vertical-align: top;\n",
       "    }\n",
       "\n",
       "    .dataframe thead th {\n",
       "        text-align: right;\n",
       "    }\n",
       "</style>\n",
       "<table border=\"1\" class=\"dataframe\">\n",
       "  <thead>\n",
       "    <tr style=\"text-align: right;\">\n",
       "      <th></th>\n",
       "      <th>Model</th>\n",
       "      <th>Accuracy_Training_Set</th>\n",
       "      <th>Accuracy_Test_Set</th>\n",
       "      <th>Precision</th>\n",
       "      <th>Recall</th>\n",
       "      <th>f1_score</th>\n",
       "      <th>Training Time (secs)</th>\n",
       "    </tr>\n",
       "  </thead>\n",
       "  <tbody>\n",
       "    <tr>\n",
       "      <th>0</th>\n",
       "      <td>LogisticRegression</td>\n",
       "      <td>0.987521</td>\n",
       "      <td>0.800394</td>\n",
       "      <td>0.792869</td>\n",
       "      <td>0.719569</td>\n",
       "      <td>0.754443</td>\n",
       "      <td>1.50</td>\n",
       "    </tr>\n",
       "    <tr>\n",
       "      <th>1</th>\n",
       "      <td>SVC</td>\n",
       "      <td>0.957471</td>\n",
       "      <td>0.793828</td>\n",
       "      <td>0.837022</td>\n",
       "      <td>0.640986</td>\n",
       "      <td>0.726003</td>\n",
       "      <td>16.87</td>\n",
       "    </tr>\n",
       "    <tr>\n",
       "      <th>2</th>\n",
       "      <td>KNeighborsClassifier</td>\n",
       "      <td>0.783415</td>\n",
       "      <td>0.714380</td>\n",
       "      <td>0.854305</td>\n",
       "      <td>0.397535</td>\n",
       "      <td>0.542587</td>\n",
       "      <td>0.00</td>\n",
       "    </tr>\n",
       "    <tr>\n",
       "      <th>3</th>\n",
       "      <td>DecisionTreeClassifier</td>\n",
       "      <td>0.991461</td>\n",
       "      <td>0.746553</td>\n",
       "      <td>0.711755</td>\n",
       "      <td>0.681048</td>\n",
       "      <td>0.696063</td>\n",
       "      <td>6.53</td>\n",
       "    </tr>\n",
       "    <tr>\n",
       "      <th>4</th>\n",
       "      <td>RandomForestClassifier</td>\n",
       "      <td>0.991461</td>\n",
       "      <td>0.782666</td>\n",
       "      <td>0.816733</td>\n",
       "      <td>0.631741</td>\n",
       "      <td>0.712424</td>\n",
       "      <td>42.35</td>\n",
       "    </tr>\n",
       "    <tr>\n",
       "      <th>5</th>\n",
       "      <td>GradientBoostingClassifier</td>\n",
       "      <td>0.772250</td>\n",
       "      <td>0.742613</td>\n",
       "      <td>0.762781</td>\n",
       "      <td>0.574730</td>\n",
       "      <td>0.655536</td>\n",
       "      <td>9.19</td>\n",
       "    </tr>\n",
       "  </tbody>\n",
       "</table>\n",
       "</div>"
      ],
      "text/plain": [
       "                        Model  Accuracy_Training_Set  Accuracy_Test_Set  \\\n",
       "0          LogisticRegression               0.987521           0.800394   \n",
       "1                         SVC               0.957471           0.793828   \n",
       "2        KNeighborsClassifier               0.783415           0.714380   \n",
       "3      DecisionTreeClassifier               0.991461           0.746553   \n",
       "4      RandomForestClassifier               0.991461           0.782666   \n",
       "5  GradientBoostingClassifier               0.772250           0.742613   \n",
       "\n",
       "   Precision    Recall  f1_score Training Time (secs)  \n",
       "0   0.792869  0.719569  0.754443                 1.50  \n",
       "1   0.837022  0.640986  0.726003                16.87  \n",
       "2   0.854305  0.397535  0.542587                 0.00  \n",
       "3   0.711755  0.681048  0.696063                 6.53  \n",
       "4   0.816733  0.631741  0.712424                42.35  \n",
       "5   0.762781  0.574730  0.655536                 9.19  "
      ]
     },
     "execution_count": 36,
     "metadata": {},
     "output_type": "execute_result"
    }
   ],
   "source": [
    "DF_PERF_METRICS"
   ]
  },
  {
   "cell_type": "markdown",
   "metadata": {
    "ExecuteTime": {
     "end_time": "2021-07-25T21:21:54.488806Z",
     "start_time": "2021-07-25T21:21:54.463819Z"
    }
   },
   "source": [
    "# HyperParameter Tuning for Model Improvement"
   ]
  },
  {
   "cell_type": "markdown",
   "metadata": {},
   "source": [
    "Proceeding onto tuning logistic regression since it has the best F1 score so far. I start with the a sparse set of values for max_iter and C.\n",
    "\n",
    "I am using the features  **ALL_TEXT_JOINED, SENTIMENT_ROUND, WORDS_PER_TWEET, IN_BOW**\n",
    "\n",
    "For  **WORDS_PER_TWEET**  is scaled using Standard Scaler and  **ALL_TEXT_JOINED**  is vectorized using CountVectorizer.\n"
   ]
  },
  {
   "cell_type": "code",
   "execution_count": 37,
   "metadata": {
    "ExecuteTime": {
     "end_time": "2021-09-27T01:28:29.579457Z",
     "start_time": "2021-09-27T01:28:28.845548Z"
    }
   },
   "outputs": [],
   "source": [
    "# Execute the data prep pipeline\n",
    "\n",
    "cols_to_train = [ALL_TEXT_JOINED, SENTIMENT_ROUND, WORDS_PER_TWEET, IN_BOW]\n",
    "cols_to_scale = [WORDS_PER_TWEET]\n",
    "\n",
    "X_train, X_test, y_train, y_test = train_test_split(df_train[cols_to_train],\n",
    "                                                    df_train[TARGET].values,\n",
    "                                                    test_size=0.2,\n",
    "                                                    random_state=42)\n",
    "ct = ColumnTransformer(\n",
    "    [(\"scaler\", StandardScaler(), cols_to_scale),\n",
    "     (\"count_vec\", CountVectorizer(ngram_range=(1, 2)), ALL_TEXT_JOINED)],\n",
    "    remainder='passthrough')\n",
    "\n",
    "ct.fit(X_train)\n",
    "X_train_sparse = ct.transform(X_train)\n",
    "X_test_sparse = ct.transform(X_test)\n",
    "df_test_sparse = ct.transform(df_test[cols_to_train])"
   ]
  },
  {
   "cell_type": "markdown",
   "metadata": {},
   "source": [
    "## Attempt 1"
   ]
  },
  {
   "cell_type": "code",
   "execution_count": 38,
   "metadata": {
    "ExecuteTime": {
     "end_time": "2021-09-27T01:30:20.192760Z",
     "start_time": "2021-09-27T01:28:30.322440Z"
    },
    "scrolled": true
   },
   "outputs": [
    {
     "name": "stdout",
     "output_type": "stream",
     "text": [
      "Fitting 5 folds for each of 24 candidates, totalling 120 fits\n",
      "[CV 1/5] END ...........C=0.1, max_iter=100; f1: (test=0.711) total time=   0.3s\n",
      "[CV 2/5] END ...........C=0.1, max_iter=100; f1: (test=0.728) total time=   0.3s\n",
      "[CV 3/5] END ...........C=0.1, max_iter=100; f1: (test=0.729) total time=   0.2s\n",
      "[CV 4/5] END ...........C=0.1, max_iter=100; f1: (test=0.705) total time=   0.3s\n",
      "[CV 5/5] END ...........C=0.1, max_iter=100; f1: (test=0.713) total time=   0.2s\n",
      "[CV 1/5] END ...........C=0.1, max_iter=200; f1: (test=0.711) total time=   0.3s\n",
      "[CV 2/5] END ...........C=0.1, max_iter=200; f1: (test=0.728) total time=   0.3s\n",
      "[CV 3/5] END ...........C=0.1, max_iter=200; f1: (test=0.729) total time=   0.2s\n",
      "[CV 4/5] END ...........C=0.1, max_iter=200; f1: (test=0.705) total time=   0.3s\n",
      "[CV 5/5] END ...........C=0.1, max_iter=200; f1: (test=0.713) total time=   0.2s\n",
      "[CV 1/5] END ...........C=0.1, max_iter=500; f1: (test=0.711) total time=   0.3s\n",
      "[CV 2/5] END ...........C=0.1, max_iter=500; f1: (test=0.728) total time=   0.3s\n",
      "[CV 3/5] END ...........C=0.1, max_iter=500; f1: (test=0.729) total time=   0.2s\n",
      "[CV 4/5] END ...........C=0.1, max_iter=500; f1: (test=0.705) total time=   0.3s\n",
      "[CV 5/5] END ...........C=0.1, max_iter=500; f1: (test=0.713) total time=   0.2s\n",
      "[CV 1/5] END ..........C=0.1, max_iter=1000; f1: (test=0.711) total time=   0.4s\n",
      "[CV 2/5] END ..........C=0.1, max_iter=1000; f1: (test=0.728) total time=   0.3s\n",
      "[CV 3/5] END ..........C=0.1, max_iter=1000; f1: (test=0.729) total time=   0.2s\n",
      "[CV 4/5] END ..........C=0.1, max_iter=1000; f1: (test=0.705) total time=   0.3s\n",
      "[CV 5/5] END ..........C=0.1, max_iter=1000; f1: (test=0.713) total time=   0.2s\n",
      "[CV 1/5] END ...........C=0.5, max_iter=100; f1: (test=0.737) total time=   0.5s\n",
      "[CV 2/5] END ...........C=0.5, max_iter=100; f1: (test=0.729) total time=   0.4s\n",
      "[CV 3/5] END ...........C=0.5, max_iter=100; f1: (test=0.757) total time=   0.4s\n",
      "[CV 4/5] END ...........C=0.5, max_iter=100; f1: (test=0.732) total time=   0.5s\n",
      "[CV 5/5] END ...........C=0.5, max_iter=100; f1: (test=0.738) total time=   0.3s\n",
      "[CV 1/5] END ...........C=0.5, max_iter=200; f1: (test=0.737) total time=   0.4s\n",
      "[CV 2/5] END ...........C=0.5, max_iter=200; f1: (test=0.729) total time=   0.5s\n",
      "[CV 3/5] END ...........C=0.5, max_iter=200; f1: (test=0.757) total time=   0.4s\n",
      "[CV 4/5] END ...........C=0.5, max_iter=200; f1: (test=0.732) total time=   0.5s\n",
      "[CV 5/5] END ...........C=0.5, max_iter=200; f1: (test=0.738) total time=   0.3s\n",
      "[CV 1/5] END ...........C=0.5, max_iter=500; f1: (test=0.737) total time=   0.5s\n",
      "[CV 2/5] END ...........C=0.5, max_iter=500; f1: (test=0.729) total time=   0.5s\n",
      "[CV 3/5] END ...........C=0.5, max_iter=500; f1: (test=0.757) total time=   0.4s\n",
      "[CV 4/5] END ...........C=0.5, max_iter=500; f1: (test=0.732) total time=   0.4s\n",
      "[CV 5/5] END ...........C=0.5, max_iter=500; f1: (test=0.738) total time=   0.4s\n",
      "[CV 1/5] END ..........C=0.5, max_iter=1000; f1: (test=0.737) total time=   0.5s\n",
      "[CV 2/5] END ..........C=0.5, max_iter=1000; f1: (test=0.729) total time=   0.4s\n",
      "[CV 3/5] END ..........C=0.5, max_iter=1000; f1: (test=0.757) total time=   0.3s\n",
      "[CV 4/5] END ..........C=0.5, max_iter=1000; f1: (test=0.732) total time=   0.4s\n",
      "[CV 5/5] END ..........C=0.5, max_iter=1000; f1: (test=0.738) total time=   0.3s\n",
      "[CV 1/5] END .............C=1, max_iter=100; f1: (test=0.743) total time=   0.6s\n",
      "[CV 2/5] END .............C=1, max_iter=100; f1: (test=0.724) total time=   0.5s\n",
      "[CV 3/5] END .............C=1, max_iter=100; f1: (test=0.758) total time=   0.5s\n",
      "[CV 4/5] END .............C=1, max_iter=100; f1: (test=0.740) total time=   0.6s\n",
      "[CV 5/5] END .............C=1, max_iter=100; f1: (test=0.741) total time=   0.4s\n",
      "[CV 1/5] END .............C=1, max_iter=200; f1: (test=0.743) total time=   0.6s\n",
      "[CV 2/5] END .............C=1, max_iter=200; f1: (test=0.724) total time=   0.6s\n",
      "[CV 3/5] END .............C=1, max_iter=200; f1: (test=0.758) total time=   0.4s\n",
      "[CV 4/5] END .............C=1, max_iter=200; f1: (test=0.740) total time=   0.6s\n",
      "[CV 5/5] END .............C=1, max_iter=200; f1: (test=0.741) total time=   0.4s\n",
      "[CV 1/5] END .............C=1, max_iter=500; f1: (test=0.743) total time=   0.6s\n",
      "[CV 2/5] END .............C=1, max_iter=500; f1: (test=0.724) total time=   0.5s\n",
      "[CV 3/5] END .............C=1, max_iter=500; f1: (test=0.758) total time=   0.4s\n",
      "[CV 4/5] END .............C=1, max_iter=500; f1: (test=0.740) total time=   0.5s\n",
      "[CV 5/5] END .............C=1, max_iter=500; f1: (test=0.741) total time=   0.4s\n",
      "[CV 1/5] END ............C=1, max_iter=1000; f1: (test=0.743) total time=   0.6s\n",
      "[CV 2/5] END ............C=1, max_iter=1000; f1: (test=0.724) total time=   0.5s\n",
      "[CV 3/5] END ............C=1, max_iter=1000; f1: (test=0.758) total time=   0.5s\n",
      "[CV 4/5] END ............C=1, max_iter=1000; f1: (test=0.740) total time=   0.5s\n",
      "[CV 5/5] END ............C=1, max_iter=1000; f1: (test=0.741) total time=   0.4s\n",
      "[CV 1/5] END ............C=10, max_iter=100; f1: (test=0.737) total time=   0.8s\n",
      "[CV 2/5] END ............C=10, max_iter=100; f1: (test=0.733) total time=   0.7s\n",
      "[CV 3/5] END ............C=10, max_iter=100; f1: (test=0.751) total time=   0.6s\n",
      "[CV 4/5] END ............C=10, max_iter=100; f1: (test=0.735) total time=   0.8s\n",
      "[CV 5/5] END ............C=10, max_iter=100; f1: (test=0.735) total time=   0.7s\n",
      "[CV 1/5] END ............C=10, max_iter=200; f1: (test=0.737) total time=   1.0s\n",
      "[CV 2/5] END ............C=10, max_iter=200; f1: (test=0.733) total time=   1.0s\n",
      "[CV 3/5] END ............C=10, max_iter=200; f1: (test=0.750) total time=   0.9s\n",
      "[CV 4/5] END ............C=10, max_iter=200; f1: (test=0.735) total time=   1.0s\n",
      "[CV 5/5] END ............C=10, max_iter=200; f1: (test=0.735) total time=   0.9s\n",
      "[CV 1/5] END ............C=10, max_iter=500; f1: (test=0.737) total time=   0.9s\n",
      "[CV 2/5] END ............C=10, max_iter=500; f1: (test=0.733) total time=   1.1s\n",
      "[CV 3/5] END ............C=10, max_iter=500; f1: (test=0.750) total time=   1.0s\n",
      "[CV 4/5] END ............C=10, max_iter=500; f1: (test=0.735) total time=   1.0s\n",
      "[CV 5/5] END ............C=10, max_iter=500; f1: (test=0.735) total time=   0.9s\n",
      "[CV 1/5] END ...........C=10, max_iter=1000; f1: (test=0.737) total time=   1.0s\n",
      "[CV 2/5] END ...........C=10, max_iter=1000; f1: (test=0.733) total time=   1.0s\n",
      "[CV 3/5] END ...........C=10, max_iter=1000; f1: (test=0.750) total time=   0.9s\n",
      "[CV 4/5] END ...........C=10, max_iter=1000; f1: (test=0.735) total time=   0.9s\n",
      "[CV 5/5] END ...........C=10, max_iter=1000; f1: (test=0.735) total time=   0.9s\n",
      "[CV 1/5] END ............C=50, max_iter=100; f1: (test=0.735) total time=   0.7s\n",
      "[CV 2/5] END ............C=50, max_iter=100; f1: (test=0.730) total time=   0.7s\n",
      "[CV 3/5] END ............C=50, max_iter=100; f1: (test=0.748) total time=   0.6s\n",
      "[CV 4/5] END ............C=50, max_iter=100; f1: (test=0.731) total time=   0.7s\n",
      "[CV 5/5] END ............C=50, max_iter=100; f1: (test=0.736) total time=   0.6s\n",
      "[CV 1/5] END ............C=50, max_iter=200; f1: (test=0.732) total time=   1.4s\n",
      "[CV 2/5] END ............C=50, max_iter=200; f1: (test=0.728) total time=   1.4s\n",
      "[CV 3/5] END ............C=50, max_iter=200; f1: (test=0.747) total time=   1.3s\n",
      "[CV 4/5] END ............C=50, max_iter=200; f1: (test=0.732) total time=   1.5s\n",
      "[CV 5/5] END ............C=50, max_iter=200; f1: (test=0.739) total time=   1.3s\n",
      "[CV 1/5] END ............C=50, max_iter=500; f1: (test=0.732) total time=   1.5s\n",
      "[CV 2/5] END ............C=50, max_iter=500; f1: (test=0.728) total time=   1.7s\n",
      "[CV 3/5] END ............C=50, max_iter=500; f1: (test=0.747) total time=   1.6s\n",
      "[CV 4/5] END ............C=50, max_iter=500; f1: (test=0.732) total time=   1.5s\n",
      "[CV 5/5] END ............C=50, max_iter=500; f1: (test=0.739) total time=   1.6s\n",
      "[CV 1/5] END ...........C=50, max_iter=1000; f1: (test=0.732) total time=   1.6s\n",
      "[CV 2/5] END ...........C=50, max_iter=1000; f1: (test=0.728) total time=   1.6s\n",
      "[CV 3/5] END ...........C=50, max_iter=1000; f1: (test=0.747) total time=   1.6s\n",
      "[CV 4/5] END ...........C=50, max_iter=1000; f1: (test=0.732) total time=   1.5s\n",
      "[CV 5/5] END ...........C=50, max_iter=1000; f1: (test=0.739) total time=   1.5s\n",
      "[CV 1/5] END ...........C=100, max_iter=100; f1: (test=0.733) total time=   0.7s\n"
     ]
    },
    {
     "name": "stdout",
     "output_type": "stream",
     "text": [
      "[CV 2/5] END ...........C=100, max_iter=100; f1: (test=0.728) total time=   0.7s\n",
      "[CV 3/5] END ...........C=100, max_iter=100; f1: (test=0.745) total time=   0.6s\n",
      "[CV 4/5] END ...........C=100, max_iter=100; f1: (test=0.730) total time=   0.8s\n",
      "[CV 5/5] END ...........C=100, max_iter=100; f1: (test=0.740) total time=   0.6s\n",
      "[CV 1/5] END ...........C=100, max_iter=200; f1: (test=0.733) total time=   1.4s\n",
      "[CV 2/5] END ...........C=100, max_iter=200; f1: (test=0.727) total time=   1.4s\n",
      "[CV 3/5] END ...........C=100, max_iter=200; f1: (test=0.747) total time=   1.3s\n",
      "[CV 4/5] END ...........C=100, max_iter=200; f1: (test=0.732) total time=   1.4s\n",
      "[CV 5/5] END ...........C=100, max_iter=200; f1: (test=0.739) total time=   1.3s\n",
      "[CV 1/5] END ...........C=100, max_iter=500; f1: (test=0.732) total time=   2.2s\n",
      "[CV 2/5] END ...........C=100, max_iter=500; f1: (test=0.727) total time=   1.9s\n",
      "[CV 3/5] END ...........C=100, max_iter=500; f1: (test=0.745) total time=   1.7s\n",
      "[CV 4/5] END ...........C=100, max_iter=500; f1: (test=0.731) total time=   1.8s\n",
      "[CV 5/5] END ...........C=100, max_iter=500; f1: (test=0.739) total time=   1.9s\n",
      "[CV 1/5] END ..........C=100, max_iter=1000; f1: (test=0.732) total time=   2.1s\n",
      "[CV 2/5] END ..........C=100, max_iter=1000; f1: (test=0.727) total time=   2.0s\n",
      "[CV 3/5] END ..........C=100, max_iter=1000; f1: (test=0.745) total time=   1.9s\n",
      "[CV 4/5] END ..........C=100, max_iter=1000; f1: (test=0.731) total time=   1.8s\n",
      "[CV 5/5] END ..........C=100, max_iter=1000; f1: (test=0.739) total time=   2.0s\n"
     ]
    }
   ],
   "source": [
    "max_iter = [100, 200, 500, 1000]\n",
    "C = [0.1, 0.5, 1, 10, 50, 100]\n",
    "\n",
    "param_grid = dict(max_iter=max_iter, C=C)\n",
    "\n",
    "logreg = LogisticRegression()\n",
    "\n",
    "grid = GridSearchCV(estimator=logreg,\n",
    "                    param_grid=param_grid,\n",
    "                    cv=5,\n",
    "                    scoring=['f1'],\n",
    "                    refit='f1',\n",
    "                    verbose=3)\n",
    "\n",
    "grid_result = grid.fit(X_train_sparse, y_train)"
   ]
  },
  {
   "cell_type": "code",
   "execution_count": 39,
   "metadata": {
    "ExecuteTime": {
     "end_time": "2021-09-27T01:30:20.344498Z",
     "start_time": "2021-09-27T01:30:20.312915Z"
    }
   },
   "outputs": [
    {
     "name": "stdout",
     "output_type": "stream",
     "text": [
      "Training Accuracy:  0.9857142857142858\n",
      "Training f1-score:  0.9832531280076998\n",
      "Accuracy:  0.7977675640183848\n",
      "Precision:  0.7934595524956971\n",
      "Recall:  0.7103235747303543\n",
      "f1-score:  0.7495934959349594\n"
     ]
    }
   ],
   "source": [
    "model_1 = grid_result.best_estimator_\n",
    "y_pred_attempt_1 = model_1.predict(X_test_sparse)\n",
    "training_prediction = model_1.predict(X_train_sparse)\n",
    "print_classification_metrics(y_train, training_prediction, y_test, y_pred_attempt_1)"
   ]
  },
  {
   "cell_type": "code",
   "execution_count": 40,
   "metadata": {
    "ExecuteTime": {
     "end_time": "2021-09-27T01:30:20.492685Z",
     "start_time": "2021-09-27T01:30:20.484955Z"
    }
   },
   "outputs": [
    {
     "data": {
      "text/plain": [
       "{'C': 1, 'max_iter': 100}"
      ]
     },
     "execution_count": 40,
     "metadata": {},
     "output_type": "execute_result"
    }
   ],
   "source": [
    "grid_result.best_params_"
   ]
  },
  {
   "cell_type": "markdown",
   "metadata": {},
   "source": [
    "## Atempt 2"
   ]
  },
  {
   "cell_type": "markdown",
   "metadata": {},
   "source": [
    "In this attempt, I have narrowed down the grid values where the middle value is the previous best hyperparameter values."
   ]
  },
  {
   "cell_type": "code",
   "execution_count": 41,
   "metadata": {
    "ExecuteTime": {
     "end_time": "2021-09-27T01:43:54.340714Z",
     "start_time": "2021-09-27T01:43:22.876882Z"
    },
    "scrolled": true
   },
   "outputs": [
    {
     "name": "stdout",
     "output_type": "stream",
     "text": [
      "Fitting 5 folds for each of 9 candidates, totalling 45 fits\n",
      "[CV 1/5] END ..............C=1, max_iter=50; f1: (test=0.742) total time=   0.5s\n",
      "[CV 2/5] END ..............C=1, max_iter=50; f1: (test=0.724) total time=   0.3s\n",
      "[CV 3/5] END ..............C=1, max_iter=50; f1: (test=0.758) total time=   0.4s\n",
      "[CV 4/5] END ..............C=1, max_iter=50; f1: (test=0.740) total time=   0.3s\n",
      "[CV 5/5] END ..............C=1, max_iter=50; f1: (test=0.741) total time=   0.4s\n",
      "[CV 1/5] END .............C=1, max_iter=100; f1: (test=0.743) total time=   0.6s\n",
      "[CV 2/5] END .............C=1, max_iter=100; f1: (test=0.724) total time=   0.4s\n",
      "[CV 3/5] END .............C=1, max_iter=100; f1: (test=0.758) total time=   0.5s\n",
      "[CV 4/5] END .............C=1, max_iter=100; f1: (test=0.740) total time=   0.4s\n",
      "[CV 5/5] END .............C=1, max_iter=100; f1: (test=0.741) total time=   0.5s\n",
      "[CV 1/5] END .............C=1, max_iter=150; f1: (test=0.743) total time=   0.6s\n",
      "[CV 2/5] END .............C=1, max_iter=150; f1: (test=0.724) total time=   0.5s\n",
      "[CV 3/5] END .............C=1, max_iter=150; f1: (test=0.758) total time=   0.6s\n",
      "[CV 4/5] END .............C=1, max_iter=150; f1: (test=0.740) total time=   0.4s\n",
      "[CV 5/5] END .............C=1, max_iter=150; f1: (test=0.741) total time=   0.5s\n",
      "[CV 1/5] END ..............C=5, max_iter=50; f1: (test=0.737) total time=   0.4s\n",
      "[CV 2/5] END ..............C=5, max_iter=50; f1: (test=0.732) total time=   0.3s\n",
      "[CV 3/5] END ..............C=5, max_iter=50; f1: (test=0.752) total time=   0.4s\n",
      "[CV 4/5] END ..............C=5, max_iter=50; f1: (test=0.737) total time=   0.3s\n",
      "[CV 5/5] END ..............C=5, max_iter=50; f1: (test=0.736) total time=   0.4s\n",
      "[CV 1/5] END .............C=5, max_iter=100; f1: (test=0.738) total time=   0.7s\n",
      "[CV 2/5] END .............C=5, max_iter=100; f1: (test=0.731) total time=   0.6s\n",
      "[CV 3/5] END .............C=5, max_iter=100; f1: (test=0.754) total time=   0.7s\n",
      "[CV 4/5] END .............C=5, max_iter=100; f1: (test=0.737) total time=   0.7s\n",
      "[CV 5/5] END .............C=5, max_iter=100; f1: (test=0.737) total time=   0.8s\n",
      "[CV 1/5] END .............C=5, max_iter=150; f1: (test=0.738) total time=   1.0s\n",
      "[CV 2/5] END .............C=5, max_iter=150; f1: (test=0.731) total time=   0.7s\n",
      "[CV 3/5] END .............C=5, max_iter=150; f1: (test=0.754) total time=   0.8s\n",
      "[CV 4/5] END .............C=5, max_iter=150; f1: (test=0.737) total time=   0.6s\n",
      "[CV 5/5] END .............C=5, max_iter=150; f1: (test=0.737) total time=   0.9s\n",
      "[CV 1/5] END .............C=10, max_iter=50; f1: (test=0.737) total time=   0.4s\n",
      "[CV 2/5] END .............C=10, max_iter=50; f1: (test=0.737) total time=   0.4s\n",
      "[CV 3/5] END .............C=10, max_iter=50; f1: (test=0.754) total time=   0.4s\n",
      "[CV 4/5] END .............C=10, max_iter=50; f1: (test=0.737) total time=   0.3s\n",
      "[CV 5/5] END .............C=10, max_iter=50; f1: (test=0.731) total time=   0.4s\n",
      "[CV 1/5] END ............C=10, max_iter=100; f1: (test=0.737) total time=   0.7s\n",
      "[CV 2/5] END ............C=10, max_iter=100; f1: (test=0.733) total time=   0.6s\n",
      "[CV 3/5] END ............C=10, max_iter=100; f1: (test=0.751) total time=   0.8s\n",
      "[CV 4/5] END ............C=10, max_iter=100; f1: (test=0.735) total time=   0.6s\n",
      "[CV 5/5] END ............C=10, max_iter=100; f1: (test=0.735) total time=   0.7s\n",
      "[CV 1/5] END ............C=10, max_iter=150; f1: (test=0.737) total time=   0.9s\n",
      "[CV 2/5] END ............C=10, max_iter=150; f1: (test=0.733) total time=   0.9s\n",
      "[CV 3/5] END ............C=10, max_iter=150; f1: (test=0.750) total time=   1.1s\n",
      "[CV 4/5] END ............C=10, max_iter=150; f1: (test=0.735) total time=   0.9s\n",
      "[CV 5/5] END ............C=10, max_iter=150; f1: (test=0.735) total time=   1.0s\n"
     ]
    }
   ],
   "source": [
    "max_iter = [50, 100, 150]\n",
    "C = [1, 5, 10]\n",
    "\n",
    "param_grid = dict(max_iter=max_iter, C=C)\n",
    "\n",
    "logreg = LogisticRegression()\n",
    "\n",
    "grid = GridSearchCV(estimator=logreg,\n",
    "                    param_grid=param_grid,\n",
    "                    cv=5,\n",
    "                    scoring=['f1'],\n",
    "                    refit='f1',\n",
    "                    verbose=3)\n",
    "\n",
    "grid_result = grid.fit(X_train_sparse, y_train)"
   ]
  },
  {
   "cell_type": "code",
   "execution_count": 42,
   "metadata": {
    "ExecuteTime": {
     "end_time": "2021-09-27T01:43:56.890255Z",
     "start_time": "2021-09-27T01:43:56.841401Z"
    }
   },
   "outputs": [
    {
     "name": "stdout",
     "output_type": "stream",
     "text": [
      "Training Accuracy:  0.9857142857142858\n",
      "Training f1-score:  0.9832531280076998\n",
      "Accuracy:  0.7977675640183848\n",
      "Precision:  0.7934595524956971\n",
      "Recall:  0.7103235747303543\n",
      "f1-score:  0.7495934959349594\n"
     ]
    }
   ],
   "source": [
    "model_2 = grid_result.best_estimator_\n",
    "y_pred_attempt_2 = model_2.predict(X_test_sparse)\n",
    "training_prediction = model_2.predict(X_train_sparse)\n",
    "print_classification_metrics(y_train, training_prediction, y_test, y_pred_attempt_2)"
   ]
  },
  {
   "cell_type": "code",
   "execution_count": 43,
   "metadata": {
    "ExecuteTime": {
     "end_time": "2021-09-27T01:43:58.800461Z",
     "start_time": "2021-09-27T01:43:58.773524Z"
    }
   },
   "outputs": [
    {
     "data": {
      "text/plain": [
       "{'C': 1, 'max_iter': 100}"
      ]
     },
     "execution_count": 43,
     "metadata": {},
     "output_type": "execute_result"
    }
   ],
   "source": [
    "grid_result.best_params_"
   ]
  },
  {
   "cell_type": "markdown",
   "metadata": {},
   "source": [
    "## Attempt 3"
   ]
  },
  {
   "cell_type": "markdown",
   "metadata": {},
   "source": [
    "In this attempt, I tried different combinations of penalty, solver and fit_intercept to check if they could predict better."
   ]
  },
  {
   "cell_type": "code",
   "execution_count": 44,
   "metadata": {
    "ExecuteTime": {
     "end_time": "2021-09-27T01:45:53.418641Z",
     "start_time": "2021-09-27T01:45:03.102475Z"
    },
    "scrolled": true
   },
   "outputs": [
    {
     "name": "stdout",
     "output_type": "stream",
     "text": [
      "Fitting 5 folds for each of 18 candidates, totalling 90 fits\n",
      "[CV 1/5] END C=1, fit_intercept=True, max_iter=100, penalty=elasticnet, solver=saga; f1: (test=nan) total time=   0.0s\n",
      "[CV 2/5] END C=1, fit_intercept=True, max_iter=100, penalty=elasticnet, solver=saga; f1: (test=nan) total time=   0.0s\n",
      "[CV 3/5] END C=1, fit_intercept=True, max_iter=100, penalty=elasticnet, solver=saga; f1: (test=nan) total time=   0.0s\n",
      "[CV 4/5] END C=1, fit_intercept=True, max_iter=100, penalty=elasticnet, solver=saga; f1: (test=nan) total time=   0.0s\n",
      "[CV 5/5] END C=1, fit_intercept=True, max_iter=100, penalty=elasticnet, solver=saga; f1: (test=nan) total time=   0.0s\n",
      "[CV 1/5] END C=1, fit_intercept=True, max_iter=100, penalty=elasticnet, solver=liblinear; f1: (test=nan) total time=   0.0s\n",
      "[CV 2/5] END C=1, fit_intercept=True, max_iter=100, penalty=elasticnet, solver=liblinear; f1: (test=nan) total time=   0.0s\n",
      "[CV 3/5] END C=1, fit_intercept=True, max_iter=100, penalty=elasticnet, solver=liblinear; f1: (test=nan) total time=   0.0s\n",
      "[CV 4/5] END C=1, fit_intercept=True, max_iter=100, penalty=elasticnet, solver=liblinear; f1: (test=nan) total time=   0.0s\n",
      "[CV 5/5] END C=1, fit_intercept=True, max_iter=100, penalty=elasticnet, solver=liblinear; f1: (test=nan) total time=   0.0s\n",
      "[CV 1/5] END C=1, fit_intercept=True, max_iter=100, penalty=elasticnet, solver=lbfgs; f1: (test=nan) total time=   0.0s\n",
      "[CV 2/5] END C=1, fit_intercept=True, max_iter=100, penalty=elasticnet, solver=lbfgs; f1: (test=nan) total time=   0.0s\n",
      "[CV 3/5] END C=1, fit_intercept=True, max_iter=100, penalty=elasticnet, solver=lbfgs; f1: (test=nan) total time=   0.0s\n",
      "[CV 4/5] END C=1, fit_intercept=True, max_iter=100, penalty=elasticnet, solver=lbfgs; f1: (test=nan) total time=   0.0s\n",
      "[CV 5/5] END C=1, fit_intercept=True, max_iter=100, penalty=elasticnet, solver=lbfgs; f1: (test=nan) total time=   0.0s\n",
      "[CV 1/5] END C=1, fit_intercept=True, max_iter=100, penalty=l1, solver=saga; f1: (test=0.733) total time=   3.7s\n",
      "[CV 2/5] END C=1, fit_intercept=True, max_iter=100, penalty=l1, solver=saga; f1: (test=0.740) total time=   4.0s\n",
      "[CV 3/5] END C=1, fit_intercept=True, max_iter=100, penalty=l1, solver=saga; f1: (test=0.751) total time=   3.9s\n",
      "[CV 4/5] END C=1, fit_intercept=True, max_iter=100, penalty=l1, solver=saga; f1: (test=0.729) total time=   3.1s\n",
      "[CV 5/5] END C=1, fit_intercept=True, max_iter=100, penalty=l1, solver=saga; f1: (test=0.748) total time=   4.0s\n",
      "[CV 1/5] END C=1, fit_intercept=True, max_iter=100, penalty=l1, solver=liblinear; f1: (test=0.724) total time=   0.0s\n",
      "[CV 2/5] END C=1, fit_intercept=True, max_iter=100, penalty=l1, solver=liblinear; f1: (test=0.735) total time=   0.0s\n",
      "[CV 3/5] END C=1, fit_intercept=True, max_iter=100, penalty=l1, solver=liblinear; f1: (test=0.748) total time=   0.0s\n",
      "[CV 4/5] END C=1, fit_intercept=True, max_iter=100, penalty=l1, solver=liblinear; f1: (test=0.720) total time=   0.0s\n",
      "[CV 5/5] END C=1, fit_intercept=True, max_iter=100, penalty=l1, solver=liblinear; f1: (test=0.742) total time=   0.0s\n",
      "[CV 1/5] END C=1, fit_intercept=True, max_iter=100, penalty=l1, solver=lbfgs; f1: (test=nan) total time=   0.0s\n",
      "[CV 2/5] END C=1, fit_intercept=True, max_iter=100, penalty=l1, solver=lbfgs; f1: (test=nan) total time=   0.0s\n",
      "[CV 3/5] END C=1, fit_intercept=True, max_iter=100, penalty=l1, solver=lbfgs; f1: (test=nan) total time=   0.0s\n",
      "[CV 4/5] END C=1, fit_intercept=True, max_iter=100, penalty=l1, solver=lbfgs; f1: (test=nan) total time=   0.0s\n",
      "[CV 5/5] END C=1, fit_intercept=True, max_iter=100, penalty=l1, solver=lbfgs; f1: (test=nan) total time=   0.0s\n",
      "[CV 1/5] END C=1, fit_intercept=True, max_iter=100, penalty=l2, solver=saga; f1: (test=0.750) total time=   0.3s\n",
      "[CV 2/5] END C=1, fit_intercept=True, max_iter=100, penalty=l2, solver=saga; f1: (test=0.733) total time=   0.3s\n",
      "[CV 3/5] END C=1, fit_intercept=True, max_iter=100, penalty=l2, solver=saga; f1: (test=0.763) total time=   0.3s\n",
      "[CV 4/5] END C=1, fit_intercept=True, max_iter=100, penalty=l2, solver=saga; f1: (test=0.743) total time=   0.3s\n",
      "[CV 5/5] END C=1, fit_intercept=True, max_iter=100, penalty=l2, solver=saga; f1: (test=0.752) total time=   0.3s\n",
      "[CV 1/5] END C=1, fit_intercept=True, max_iter=100, penalty=l2, solver=liblinear; f1: (test=0.744) total time=   0.0s\n",
      "[CV 2/5] END C=1, fit_intercept=True, max_iter=100, penalty=l2, solver=liblinear; f1: (test=0.724) total time=   0.0s\n",
      "[CV 3/5] END C=1, fit_intercept=True, max_iter=100, penalty=l2, solver=liblinear; f1: (test=0.758) total time=   0.0s\n",
      "[CV 4/5] END C=1, fit_intercept=True, max_iter=100, penalty=l2, solver=liblinear; f1: (test=0.740) total time=   0.0s\n",
      "[CV 5/5] END C=1, fit_intercept=True, max_iter=100, penalty=l2, solver=liblinear; f1: (test=0.741) total time=   0.0s\n",
      "[CV 1/5] END C=1, fit_intercept=True, max_iter=100, penalty=l2, solver=lbfgs; f1: (test=0.743) total time=   0.5s\n",
      "[CV 2/5] END C=1, fit_intercept=True, max_iter=100, penalty=l2, solver=lbfgs; f1: (test=0.724) total time=   0.6s\n",
      "[CV 3/5] END C=1, fit_intercept=True, max_iter=100, penalty=l2, solver=lbfgs; f1: (test=0.758) total time=   0.4s\n",
      "[CV 4/5] END C=1, fit_intercept=True, max_iter=100, penalty=l2, solver=lbfgs; f1: (test=0.740) total time=   0.5s\n",
      "[CV 5/5] END C=1, fit_intercept=True, max_iter=100, penalty=l2, solver=lbfgs; f1: (test=0.741) total time=   0.4s\n",
      "[CV 1/5] END C=1, fit_intercept=False, max_iter=100, penalty=elasticnet, solver=saga; f1: (test=nan) total time=   0.0s\n",
      "[CV 2/5] END C=1, fit_intercept=False, max_iter=100, penalty=elasticnet, solver=saga; f1: (test=nan) total time=   0.0s\n",
      "[CV 3/5] END C=1, fit_intercept=False, max_iter=100, penalty=elasticnet, solver=saga; f1: (test=nan) total time=   0.0s\n",
      "[CV 4/5] END C=1, fit_intercept=False, max_iter=100, penalty=elasticnet, solver=saga; f1: (test=nan) total time=   0.0s\n",
      "[CV 5/5] END C=1, fit_intercept=False, max_iter=100, penalty=elasticnet, solver=saga; f1: (test=nan) total time=   0.0s\n",
      "[CV 1/5] END C=1, fit_intercept=False, max_iter=100, penalty=elasticnet, solver=liblinear; f1: (test=nan) total time=   0.0s\n",
      "[CV 2/5] END C=1, fit_intercept=False, max_iter=100, penalty=elasticnet, solver=liblinear; f1: (test=nan) total time=   0.0s\n",
      "[CV 3/5] END C=1, fit_intercept=False, max_iter=100, penalty=elasticnet, solver=liblinear; f1: (test=nan) total time=   0.0s\n",
      "[CV 4/5] END C=1, fit_intercept=False, max_iter=100, penalty=elasticnet, solver=liblinear; f1: (test=nan) total time=   0.0s\n",
      "[CV 5/5] END C=1, fit_intercept=False, max_iter=100, penalty=elasticnet, solver=liblinear; f1: (test=nan) total time=   0.0s\n",
      "[CV 1/5] END C=1, fit_intercept=False, max_iter=100, penalty=elasticnet, solver=lbfgs; f1: (test=nan) total time=   0.0s\n",
      "[CV 2/5] END C=1, fit_intercept=False, max_iter=100, penalty=elasticnet, solver=lbfgs; f1: (test=nan) total time=   0.0s\n",
      "[CV 3/5] END C=1, fit_intercept=False, max_iter=100, penalty=elasticnet, solver=lbfgs; f1: (test=nan) total time=   0.0s\n",
      "[CV 4/5] END C=1, fit_intercept=False, max_iter=100, penalty=elasticnet, solver=lbfgs; f1: (test=nan) total time=   0.0s\n",
      "[CV 5/5] END C=1, fit_intercept=False, max_iter=100, penalty=elasticnet, solver=lbfgs; f1: (test=nan) total time=   0.0s\n",
      "[CV 1/5] END C=1, fit_intercept=False, max_iter=100, penalty=l1, solver=saga; f1: (test=0.742) total time=   3.9s\n",
      "[CV 2/5] END C=1, fit_intercept=False, max_iter=100, penalty=l1, solver=saga; f1: (test=0.740) total time=   4.2s\n",
      "[CV 3/5] END C=1, fit_intercept=False, max_iter=100, penalty=l1, solver=saga; f1: (test=0.743) total time=   4.0s\n",
      "[CV 4/5] END C=1, fit_intercept=False, max_iter=100, penalty=l1, solver=saga; f1: (test=0.724) total time=   3.0s\n",
      "[CV 5/5] END C=1, fit_intercept=False, max_iter=100, penalty=l1, solver=saga; f1: (test=0.749) total time=   4.0s\n",
      "[CV 1/5] END C=1, fit_intercept=False, max_iter=100, penalty=l1, solver=liblinear; f1: (test=0.734) total time=   0.0s\n",
      "[CV 2/5] END C=1, fit_intercept=False, max_iter=100, penalty=l1, solver=liblinear; f1: (test=0.737) total time=   0.0s\n",
      "[CV 3/5] END C=1, fit_intercept=False, max_iter=100, penalty=l1, solver=liblinear; f1: (test=0.745) total time=   0.0s\n",
      "[CV 4/5] END C=1, fit_intercept=False, max_iter=100, penalty=l1, solver=liblinear; f1: (test=0.730) total time=   0.0s\n",
      "[CV 5/5] END C=1, fit_intercept=False, max_iter=100, penalty=l1, solver=liblinear; f1: (test=0.748) total time=   0.0s\n",
      "[CV 1/5] END C=1, fit_intercept=False, max_iter=100, penalty=l1, solver=lbfgs; f1: (test=nan) total time=   0.0s\n",
      "[CV 2/5] END C=1, fit_intercept=False, max_iter=100, penalty=l1, solver=lbfgs; f1: (test=nan) total time=   0.0s\n",
      "[CV 3/5] END C=1, fit_intercept=False, max_iter=100, penalty=l1, solver=lbfgs; f1: (test=nan) total time=   0.0s\n",
      "[CV 4/5] END C=1, fit_intercept=False, max_iter=100, penalty=l1, solver=lbfgs; f1: (test=nan) total time=   0.0s\n",
      "[CV 5/5] END C=1, fit_intercept=False, max_iter=100, penalty=l1, solver=lbfgs; f1: (test=nan) total time=   0.0s\n"
     ]
    },
    {
     "name": "stdout",
     "output_type": "stream",
     "text": [
      "[CV 1/5] END C=1, fit_intercept=False, max_iter=100, penalty=l2, solver=saga; f1: (test=0.746) total time=   0.3s\n",
      "[CV 2/5] END C=1, fit_intercept=False, max_iter=100, penalty=l2, solver=saga; f1: (test=0.738) total time=   0.2s\n",
      "[CV 3/5] END C=1, fit_intercept=False, max_iter=100, penalty=l2, solver=saga; f1: (test=0.760) total time=   0.3s\n",
      "[CV 4/5] END C=1, fit_intercept=False, max_iter=100, penalty=l2, solver=saga; f1: (test=0.743) total time=   0.3s\n",
      "[CV 5/5] END C=1, fit_intercept=False, max_iter=100, penalty=l2, solver=saga; f1: (test=0.750) total time=   0.2s\n",
      "[CV 1/5] END C=1, fit_intercept=False, max_iter=100, penalty=l2, solver=liblinear; f1: (test=0.745) total time=   0.0s\n",
      "[CV 2/5] END C=1, fit_intercept=False, max_iter=100, penalty=l2, solver=liblinear; f1: (test=0.733) total time=   0.0s\n",
      "[CV 3/5] END C=1, fit_intercept=False, max_iter=100, penalty=l2, solver=liblinear; f1: (test=0.757) total time=   0.0s\n",
      "[CV 4/5] END C=1, fit_intercept=False, max_iter=100, penalty=l2, solver=liblinear; f1: (test=0.743) total time=   0.0s\n",
      "[CV 5/5] END C=1, fit_intercept=False, max_iter=100, penalty=l2, solver=liblinear; f1: (test=0.752) total time=   0.0s\n",
      "[CV 1/5] END C=1, fit_intercept=False, max_iter=100, penalty=l2, solver=lbfgs; f1: (test=0.745) total time=   0.5s\n",
      "[CV 2/5] END C=1, fit_intercept=False, max_iter=100, penalty=l2, solver=lbfgs; f1: (test=0.733) total time=   0.5s\n",
      "[CV 3/5] END C=1, fit_intercept=False, max_iter=100, penalty=l2, solver=lbfgs; f1: (test=0.757) total time=   0.4s\n",
      "[CV 4/5] END C=1, fit_intercept=False, max_iter=100, penalty=l2, solver=lbfgs; f1: (test=0.742) total time=   0.5s\n",
      "[CV 5/5] END C=1, fit_intercept=False, max_iter=100, penalty=l2, solver=lbfgs; f1: (test=0.752) total time=   0.5s\n"
     ]
    }
   ],
   "source": [
    "penalty = ['elasticnet', 'l1', 'l2']\n",
    "solver = ['saga', 'liblinear', 'lbfgs']\n",
    "max_iter = [100]\n",
    "C = [1]\n",
    "fit_intercept = [True, False]\n",
    "\n",
    "param_grid = dict(max_iter=max_iter,\n",
    "                  C=C,\n",
    "                  penalty=penalty,\n",
    "                  solver=solver,\n",
    "                  fit_intercept=fit_intercept)\n",
    "\n",
    "logreg = LogisticRegression()\n",
    "\n",
    "grid = GridSearchCV(estimator=logreg,\n",
    "                    param_grid=param_grid,\n",
    "                    cv=5,\n",
    "                    scoring=['f1'],\n",
    "                    refit='f1',\n",
    "                    verbose=3)\n",
    "\n",
    "grid_result = grid.fit(X_train_sparse, y_train)"
   ]
  },
  {
   "cell_type": "code",
   "execution_count": 45,
   "metadata": {
    "ExecuteTime": {
     "end_time": "2021-09-27T01:46:01.748025Z",
     "start_time": "2021-09-27T01:46:01.705892Z"
    }
   },
   "outputs": [
    {
     "name": "stdout",
     "output_type": "stream",
     "text": [
      "Training Accuracy:  0.9768472906403941\n",
      "Training f1-score:  0.9726372986609741\n",
      "Accuracy:  0.799080761654629\n",
      "Precision:  0.7816091954022989\n",
      "Recall:  0.7334360554699538\n",
      "f1-score:  0.7567567567567569\n"
     ]
    }
   ],
   "source": [
    "model_3 = grid_result.best_estimator_\n",
    "y_pred_attempt_3 = model_3.predict(X_test_sparse)\n",
    "training_prediction = model_3.predict(X_train_sparse)\n",
    "print_classification_metrics(y_train, training_prediction, y_test, y_pred_attempt_3)"
   ]
  },
  {
   "cell_type": "code",
   "execution_count": 46,
   "metadata": {
    "ExecuteTime": {
     "end_time": "2021-09-27T01:46:03.805742Z",
     "start_time": "2021-09-27T01:46:03.794741Z"
    }
   },
   "outputs": [
    {
     "data": {
      "text/plain": [
       "{'C': 1,\n",
       " 'fit_intercept': True,\n",
       " 'max_iter': 100,\n",
       " 'penalty': 'l2',\n",
       " 'solver': 'saga'}"
      ]
     },
     "execution_count": 46,
     "metadata": {},
     "output_type": "execute_result"
    }
   ],
   "source": [
    "grid_result.best_params_"
   ]
  },
  {
   "cell_type": "markdown",
   "metadata": {},
   "source": [
    "# Results"
   ]
  },
  {
   "cell_type": "markdown",
   "metadata": {},
   "source": [
    "The best results were with default hyperparameters of Logistic Regression. The features included the selected features, where words_per_tweet was scaled using StandardScalar, and the the text data vectorized using CountVectorizer.\n",
    "\n",
    "On tuning the algorithm, the best results are obtained using - \n",
    " \n",
    "``'C': 10,\n",
    " 'fit_intercept': False,\n",
    " 'max_iter': 100,\n",
    " 'penalty': 'l1',\n",
    " 'solver': 'saga'``\n",
    " "
   ]
  },
  {
   "cell_type": "markdown",
   "metadata": {},
   "source": [
    "# Final Model Training"
   ]
  },
  {
   "cell_type": "code",
   "execution_count": 47,
   "metadata": {
    "ExecuteTime": {
     "end_time": "2021-09-27T01:46:34.020711Z",
     "start_time": "2021-09-27T01:46:32.951271Z"
    }
   },
   "outputs": [
    {
     "data": {
      "text/plain": [
       "LogisticRegression(C=1, fit_intercept=False, solver='saga')"
      ]
     },
     "execution_count": 47,
     "metadata": {},
     "output_type": "execute_result"
    }
   ],
   "source": [
    "cols_to_train = [ALL_TEXT_JOINED, SENTIMENT_ROUND, WORDS_PER_TWEET, IN_BOW]\n",
    "cols_to_scale = [WORDS_PER_TWEET]\n",
    "\n",
    "X, y = df_train[cols_to_train], df_train[TARGET].values\n",
    "\n",
    "ct = ColumnTransformer(\n",
    "    [(\"scaler\", StandardScaler(), cols_to_scale),\n",
    "     (\"count_vec\", CountVectorizer(ngram_range=(1, 2)), ALL_TEXT_JOINED)],\n",
    "    remainder='passthrough')\n",
    "\n",
    "ct.fit(X)\n",
    "X_sparse = ct.transform(X)\n",
    "\n",
    "final_model = LogisticRegression(C=1,\n",
    "                                 max_iter=100,\n",
    "                                 fit_intercept=False,\n",
    "                                 penalty='l2',\n",
    "                                 solver='saga')\n",
    "\n",
    "final_model.fit(X_sparse, y)"
   ]
  },
  {
   "cell_type": "code",
   "execution_count": 48,
   "metadata": {
    "ExecuteTime": {
     "end_time": "2021-09-27T01:46:36.510233Z",
     "start_time": "2021-09-27T01:46:36.486910Z"
    }
   },
   "outputs": [
    {
     "name": "stdout",
     "output_type": "stream",
     "text": [
      "Training Accuracy:  0.97\n"
     ]
    }
   ],
   "source": [
    "print('Training Accuracy: ', round(final_model.score(X_sparse, y), 2))"
   ]
  },
  {
   "cell_type": "code",
   "execution_count": 49,
   "metadata": {
    "ExecuteTime": {
     "end_time": "2021-09-27T01:46:39.879535Z",
     "start_time": "2021-09-27T01:46:39.676745Z"
    }
   },
   "outputs": [],
   "source": [
    "df_test_sparse = ct.transform(df_test[cols_to_train])\n",
    "predict_challenge_test_data(final_model, df_test_sparse, '../Predictions/final_predictions.csv')"
   ]
  },
  {
   "cell_type": "code",
   "execution_count": 50,
   "metadata": {
    "ExecuteTime": {
     "end_time": "2021-09-27T01:46:42.087429Z",
     "start_time": "2021-09-27T01:46:42.077100Z"
    }
   },
   "outputs": [],
   "source": [
    "import joblib"
   ]
  },
  {
   "cell_type": "code",
   "execution_count": 51,
   "metadata": {
    "ExecuteTime": {
     "end_time": "2021-09-27T01:46:43.238205Z",
     "start_time": "2021-09-27T01:46:43.217596Z"
    }
   },
   "outputs": [
    {
     "data": {
      "text/plain": [
       "['../model/model.sav']"
      ]
     },
     "execution_count": 51,
     "metadata": {},
     "output_type": "execute_result"
    }
   ],
   "source": [
    "joblib.dump(final_model, '../model/model.sav')"
   ]
  }
 ],
 "metadata": {
  "kernelspec": {
   "display_name": "Python 3",
   "language": "python",
   "name": "python3"
  },
  "language_info": {
   "codemirror_mode": {
    "name": "ipython",
    "version": 3
   },
   "file_extension": ".py",
   "mimetype": "text/x-python",
   "name": "python",
   "nbconvert_exporter": "python",
   "pygments_lexer": "ipython3",
   "version": "3.8.5"
  },
  "toc": {
   "base_numbering": 1,
   "nav_menu": {},
   "number_sections": true,
   "sideBar": true,
   "skip_h1_title": false,
   "title_cell": "Table of Contents",
   "title_sidebar": "Contents",
   "toc_cell": false,
   "toc_position": {
    "height": "calc(100% - 180px)",
    "left": "10px",
    "top": "150px",
    "width": "300.792px"
   },
   "toc_section_display": true,
   "toc_window_display": true
  },
  "varInspector": {
   "cols": {
    "lenName": 16,
    "lenType": 16,
    "lenVar": 40
   },
   "kernels_config": {
    "python": {
     "delete_cmd_postfix": "",
     "delete_cmd_prefix": "del ",
     "library": "var_list.py",
     "varRefreshCmd": "print(var_dic_list())"
    },
    "r": {
     "delete_cmd_postfix": ") ",
     "delete_cmd_prefix": "rm(",
     "library": "var_list.r",
     "varRefreshCmd": "cat(var_dic_list()) "
    }
   },
   "types_to_exclude": [
    "module",
    "function",
    "builtin_function_or_method",
    "instance",
    "_Feature"
   ],
   "window_display": false
  }
 },
 "nbformat": 4,
 "nbformat_minor": 4
}
